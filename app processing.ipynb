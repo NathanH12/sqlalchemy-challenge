{
 "cells": [
  {
   "cell_type": "code",
   "execution_count": 16,
   "metadata": {},
   "outputs": [],
   "source": [
    "\n",
    "from flask import Flask, jsonify\n",
    "import pandas as pd\n",
    "import datetime as dt\n",
    "import numpy as np\n",
    "import pandas as pd\n",
    "import sqlalchemy\n",
    "from sqlalchemy.ext.automap import automap_base\n",
    "from sqlalchemy.orm import Session\n",
    "from sqlalchemy import create_engine, func\n",
    "from flask import Flask, jsonify\n",
    "\n",
    "app = Flask(__name__)\n",
    "\n"
   ]
  },
  {
   "cell_type": "code",
   "execution_count": 4,
   "metadata": {},
   "outputs": [],
   "source": [
    "precipitation_df = pd.read_csv(\"C:/Users/natha/OneDrive/Documents/Data Analytics Classwork/Week 10 AdvSQL/Module10SQLalchemy/Resources/hawaii_measurements.csv\")\n",
    "stations_df = pd.read_csv(\"C:/Users/natha/OneDrive/Documents/Data Analytics Classwork/Week 10 AdvSQL/Module10SQLalchemy/Resources/hawaii_stations.csv\")\n",
    "\n"
   ]
  },
  {
   "cell_type": "code",
   "execution_count": 12,
   "metadata": {},
   "outputs": [],
   "source": [
    "def get_temperature_observations():\n",
    "    most_active_station = 'USC00519281'\n",
    "    \n",
    "    latest_date = precipitation_df['date'].max()\n",
    "    one_year_ago = pd.to_datetime(latest_date) - pd.DateOffset(years=1)\n",
    "    \n",
    "    tobs_data = precipitation_df.loc[(precipitation_df['station'] == most_active_station) & \n",
    "                                      (precipitation_df['date'] >= one_year_ago) & \n",
    "                                      (precipitation_df['date'] <= latest_date), ['date', 'tobs']]\n",
    "    \n",
    "    tobs_dict = tobs_data.set_index('date')['tobs'].to_dict()\n",
    "\n",
    "    return tobs_dict\n",
    "\n",
    "\n",
    "def calculate_temps_start(start_date):\n",
    "   \n",
    "    selected_data = precipitation_df.loc[precipitation_df['date'] >= start_date, 'tobs']\n",
    "\n",
    "    tmin = selected_data.min()\n",
    "    tavg = selected_data.mean()\n",
    "    tmax = selected_data.max()\n",
    "\n",
    "    results = {\n",
    "        'TMIN': tmin,\n",
    "        'TAVG': tavg,\n",
    "        'TMAX': tmax\n",
    "    }\n",
    "\n",
    "    return results\n",
    "\n",
    "\n",
    "def calculate_temps_range(start_date, end_date):\n",
    "    \n",
    "    selected_data = precipitation_df.loc[(precipitation_df['date'] >= start_date) & (precipitation_df['date'] <= end_date), 'tobs']\n",
    "\n",
    "    tmin = selected_data.min()\n",
    "    tavg = selected_data.mean()\n",
    "    tmax = selected_data.max()\n",
    "\n",
    "    results = {\n",
    "        'TMIN': tmin,\n",
    "        'TAVG': tavg,\n",
    "        'TMAX': tmax\n",
    "    }\n",
    "\n",
    "    return results\n"
   ]
  },
  {
   "cell_type": "code",
   "execution_count": 15,
   "metadata": {},
   "outputs": [
    {
     "ename": "AssertionError",
     "evalue": "View function mapping is overwriting an existing endpoint function: welcome",
     "output_type": "error",
     "traceback": [
      "\u001b[1;31m---------------------------------------------------------------------------\u001b[0m",
      "\u001b[1;31mAssertionError\u001b[0m                            Traceback (most recent call last)",
      "\u001b[1;32mc:\\Users\\natha\\OneDrive\\Documents\\Data Analytics Classwork\\Week 10 AdvSQL\\Module10SQLalchemy\\app processing.ipynb Cell 4\u001b[0m line \u001b[0;36m2\n\u001b[0;32m      <a href='vscode-notebook-cell:/c%3A/Users/natha/OneDrive/Documents/Data%20Analytics%20Classwork/Week%2010%20AdvSQL/Module10SQLalchemy/app%20processing.ipynb#W5sZmlsZQ%3D%3D?line=0'>1</a>\u001b[0m \u001b[39m@app\u001b[39;49m\u001b[39m.\u001b[39;49mroute(\u001b[39m\"\u001b[39;49m\u001b[39m/\u001b[39;49m\u001b[39m\"\u001b[39;49m)\n\u001b[1;32m----> <a href='vscode-notebook-cell:/c%3A/Users/natha/OneDrive/Documents/Data%20Analytics%20Classwork/Week%2010%20AdvSQL/Module10SQLalchemy/app%20processing.ipynb#W5sZmlsZQ%3D%3D?line=1'>2</a>\u001b[0m \u001b[39mdef\u001b[39;49;00m \u001b[39mwelcome\u001b[39;49m():\n\u001b[0;32m      <a href='vscode-notebook-cell:/c%3A/Users/natha/OneDrive/Documents/Data%20Analytics%20Classwork/Week%2010%20AdvSQL/Module10SQLalchemy/app%20processing.ipynb#W5sZmlsZQ%3D%3D?line=2'>3</a>\u001b[0m     \u001b[39mreturn\u001b[39;49;00m (\n\u001b[0;32m      <a href='vscode-notebook-cell:/c%3A/Users/natha/OneDrive/Documents/Data%20Analytics%20Classwork/Week%2010%20AdvSQL/Module10SQLalchemy/app%20processing.ipynb#W5sZmlsZQ%3D%3D?line=3'>4</a>\u001b[0m         \u001b[39mf\u001b[39;49m\u001b[39m\"\u001b[39;49m\u001b[39mWelcome to the Climate API!<br/>\u001b[39;49m\u001b[39m\"\u001b[39;49m\n\u001b[0;32m      <a href='vscode-notebook-cell:/c%3A/Users/natha/OneDrive/Documents/Data%20Analytics%20Classwork/Week%2010%20AdvSQL/Module10SQLalchemy/app%20processing.ipynb#W5sZmlsZQ%3D%3D?line=4'>5</a>\u001b[0m         \u001b[39mf\u001b[39;49m\u001b[39m\"\u001b[39;49m\u001b[39mAvailable routes:<br/>\u001b[39;49m\u001b[39m\"\u001b[39;49m\n\u001b[1;32m   (...)\u001b[0m\n\u001b[0;32m     <a href='vscode-notebook-cell:/c%3A/Users/natha/OneDrive/Documents/Data%20Analytics%20Classwork/Week%2010%20AdvSQL/Module10SQLalchemy/app%20processing.ipynb#W5sZmlsZQ%3D%3D?line=9'>10</a>\u001b[0m         \u001b[39mf\u001b[39;49m\u001b[39m\"\u001b[39;49m\u001b[39m/api/v1.0/<start>/<end><br/>\u001b[39;49m\u001b[39m\"\u001b[39;49m\n\u001b[0;32m     <a href='vscode-notebook-cell:/c%3A/Users/natha/OneDrive/Documents/Data%20Analytics%20Classwork/Week%2010%20AdvSQL/Module10SQLalchemy/app%20processing.ipynb#W5sZmlsZQ%3D%3D?line=10'>11</a>\u001b[0m     )\n\u001b[0;32m     <a href='vscode-notebook-cell:/c%3A/Users/natha/OneDrive/Documents/Data%20Analytics%20Classwork/Week%2010%20AdvSQL/Module10SQLalchemy/app%20processing.ipynb#W5sZmlsZQ%3D%3D?line=12'>13</a>\u001b[0m \u001b[39mif\u001b[39;00m \u001b[39m\"\u001b[39m\u001b[39m/api/v1.0/precipitation\u001b[39m\u001b[39m\"\u001b[39m \u001b[39mnot\u001b[39;00m \u001b[39min\u001b[39;00m app\u001b[39m.\u001b[39murl_map\u001b[39m.\u001b[39m_rules_by_endpoint:\n",
      "File \u001b[1;32mc:\\Users\\natha\\anaconda3\\lib\\site-packages\\flask\\scaffold.py:436\u001b[0m, in \u001b[0;36mScaffold.route.<locals>.decorator\u001b[1;34m(f)\u001b[0m\n\u001b[0;32m    434\u001b[0m \u001b[39mdef\u001b[39;00m \u001b[39mdecorator\u001b[39m(f: T_route) \u001b[39m-\u001b[39m\u001b[39m>\u001b[39m T_route:\n\u001b[0;32m    435\u001b[0m     endpoint \u001b[39m=\u001b[39m options\u001b[39m.\u001b[39mpop(\u001b[39m\"\u001b[39m\u001b[39mendpoint\u001b[39m\u001b[39m\"\u001b[39m, \u001b[39mNone\u001b[39;00m)\n\u001b[1;32m--> 436\u001b[0m     \u001b[39mself\u001b[39m\u001b[39m.\u001b[39madd_url_rule(rule, endpoint, f, \u001b[39m*\u001b[39m\u001b[39m*\u001b[39moptions)\n\u001b[0;32m    437\u001b[0m     \u001b[39mreturn\u001b[39;00m f\n",
      "File \u001b[1;32mc:\\Users\\natha\\anaconda3\\lib\\site-packages\\flask\\scaffold.py:51\u001b[0m, in \u001b[0;36msetupmethod.<locals>.wrapper_func\u001b[1;34m(self, *args, **kwargs)\u001b[0m\n\u001b[0;32m     49\u001b[0m \u001b[39mdef\u001b[39;00m \u001b[39mwrapper_func\u001b[39m(\u001b[39mself\u001b[39m, \u001b[39m*\u001b[39margs: t\u001b[39m.\u001b[39mAny, \u001b[39m*\u001b[39m\u001b[39m*\u001b[39mkwargs: t\u001b[39m.\u001b[39mAny) \u001b[39m-\u001b[39m\u001b[39m>\u001b[39m t\u001b[39m.\u001b[39mAny:\n\u001b[0;32m     50\u001b[0m     \u001b[39mself\u001b[39m\u001b[39m.\u001b[39m_check_setup_finished(f_name)\n\u001b[1;32m---> 51\u001b[0m     \u001b[39mreturn\u001b[39;00m f(\u001b[39mself\u001b[39m, \u001b[39m*\u001b[39margs, \u001b[39m*\u001b[39m\u001b[39m*\u001b[39mkwargs)\n",
      "File \u001b[1;32mc:\\Users\\natha\\anaconda3\\lib\\site-packages\\flask\\app.py:1059\u001b[0m, in \u001b[0;36mFlask.add_url_rule\u001b[1;34m(self, rule, endpoint, view_func, provide_automatic_options, **options)\u001b[0m\n\u001b[0;32m   1057\u001b[0m old_func \u001b[39m=\u001b[39m \u001b[39mself\u001b[39m\u001b[39m.\u001b[39mview_functions\u001b[39m.\u001b[39mget(endpoint)\n\u001b[0;32m   1058\u001b[0m \u001b[39mif\u001b[39;00m old_func \u001b[39mis\u001b[39;00m \u001b[39mnot\u001b[39;00m \u001b[39mNone\u001b[39;00m \u001b[39mand\u001b[39;00m old_func \u001b[39m!=\u001b[39m view_func:\n\u001b[1;32m-> 1059\u001b[0m     \u001b[39mraise\u001b[39;00m \u001b[39mAssertionError\u001b[39;00m(\n\u001b[0;32m   1060\u001b[0m         \u001b[39m\"\u001b[39m\u001b[39mView function mapping is overwriting an existing\u001b[39m\u001b[39m\"\u001b[39m\n\u001b[0;32m   1061\u001b[0m         \u001b[39mf\u001b[39m\u001b[39m\"\u001b[39m\u001b[39m endpoint function: \u001b[39m\u001b[39m{\u001b[39;00mendpoint\u001b[39m}\u001b[39;00m\u001b[39m\"\u001b[39m\n\u001b[0;32m   1062\u001b[0m     )\n\u001b[0;32m   1063\u001b[0m \u001b[39mself\u001b[39m\u001b[39m.\u001b[39mview_functions[endpoint] \u001b[39m=\u001b[39m view_func\n",
      "\u001b[1;31mAssertionError\u001b[0m: View function mapping is overwriting an existing endpoint function: welcome"
     ]
    }
   ],
   "source": [
    "@app.route(\"/\")\n",
    "def welcome():\n",
    "    return (\n",
    "        f\"Welcome to the Climate API!<br/>\"\n",
    "        f\"Available routes:<br/>\"\n",
    "        f\"/api/v1.0/precipitation<br/>\"\n",
    "        f\"/api/v1.0/stations<br/>\"\n",
    "        f\"/api/v1.0/tobs<br/>\"\n",
    "        f\"/api/v1.0/<start><br/>\"\n",
    "        f\"/api/v1.0/<start>/<end><br/>\"\n",
    "    )\n",
    "\n",
    "if \"/api/v1.0/precipitation\" not in app.url_map._rules_by_endpoint:\n",
    "    @app.route(\"/api/v1.0/precipitation\")\n",
    "    def precipitation():\n",
    "        precipitation_data_dict = precipitation_df.groupby(\"date\").agg({\"prcp\": \"sum\"}).to_dict()[\"prcp\"]\n",
    "        return jsonify(precipitation_data_dict)\n",
    "\n",
    "@app.route(\"/api/v1.0/stations\")\n",
    "def stations():\n",
    "    stations_list = stations_df.to_dict(orient=\"records\")\n",
    "    return jsonify(stations_list)\n",
    "\n",
    "@app.route(\"/api/v1.0/tobs\")\n",
    "def tobs():\n",
    "    temperature_observations = get_temperature_observations()\n",
    "    return jsonify(temperature_observations)\n",
    "\n",
    "@app.route(\"/api/v1.0/<start>\")\n",
    "def start_date(start):\n",
    "    results = calculate_temps_start(start)\n",
    "    return jsonify(results)\n",
    "\n",
    "@app.route(\"/api/v1.0/<start>/<end>\")\n",
    "def start_end_date(start, end):\n",
    "    results = calculate_temps_range(start, end)\n",
    "    return jsonify(results)\n",
    "\n",
    "if __name__ == \"__main__\":\n",
    "    app.run(debug=True)\n"
   ]
  }
 ],
 "metadata": {
  "kernelspec": {
   "display_name": "base",
   "language": "python",
   "name": "python3"
  },
  "language_info": {
   "codemirror_mode": {
    "name": "ipython",
    "version": 3
   },
   "file_extension": ".py",
   "mimetype": "text/x-python",
   "name": "python",
   "nbconvert_exporter": "python",
   "pygments_lexer": "ipython3",
   "version": "3.10.12"
  },
  "orig_nbformat": 4
 },
 "nbformat": 4,
 "nbformat_minor": 2
}
